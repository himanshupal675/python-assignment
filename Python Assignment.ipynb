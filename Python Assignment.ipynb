{
 "cells": [
  {
   "cell_type": "code",
   "execution_count": 1,
   "id": "c5781e28-5227-480c-8815-f21412cab554",
   "metadata": {},
   "outputs": [
    {
     "name": "stdin",
     "output_type": "stream",
     "text": [
      "Enter The Number For Table  5\n"
     ]
    },
    {
     "name": "stdout",
     "output_type": "stream",
     "text": [
      "5  *  0  =  0\n",
      "5  *  1  =  5\n",
      "5  *  2  =  10\n",
      "5  *  3  =  15\n",
      "5  *  4  =  20\n",
      "5  *  5  =  25\n",
      "5  *  6  =  30\n",
      "5  *  7  =  35\n",
      "5  *  8  =  40\n",
      "5  *  9  =  45\n",
      "5  *  10  =  50\n"
     ]
    }
   ],
   "source": [
    "#Answer 1\n",
    "#For loop\n",
    "num= int(input(\"Enter The Number For Table \"))\n",
    "for i in range(11):\n",
    "    print(num,\" * \",i,\" = \",num*i)"
   ]
  },
  {
   "cell_type": "code",
   "execution_count": 3,
   "id": "dd697d88-acad-42f4-8736-da3d2e3801cd",
   "metadata": {},
   "outputs": [
    {
     "name": "stdin",
     "output_type": "stream",
     "text": [
      "Enter the number:  5\n"
     ]
    },
    {
     "name": "stdout",
     "output_type": "stream",
     "text": [
      "5  *  0  =  0\n",
      "5  *  1  =  5\n",
      "5  *  2  =  10\n",
      "5  *  3  =  15\n",
      "5  *  4  =  20\n",
      "5  *  5  =  25\n",
      "5  *  6  =  30\n",
      "5  *  7  =  35\n",
      "5  *  8  =  40\n",
      "5  *  9  =  45\n",
      "5  *  10  =  50\n"
     ]
    }
   ],
   "source": [
    "#While Loop\n",
    "num=int(input(\"Enter the number: \" ))\n",
    "i=0\n",
    "while (i<=10):\n",
    "    print(num,\" * \",i,\" = \",num*i)\n",
    "    i+=1"
   ]
  },
  {
   "cell_type": "code",
   "execution_count": 5,
   "id": "7c3d2d0f-a3d7-4834-a856-4d81b8234619",
   "metadata": {},
   "outputs": [
    {
     "name": "stdout",
     "output_type": "stream",
     "text": [
      "55\n"
     ]
    }
   ],
   "source": [
    "#Answer 2\n",
    "#Sum of first 10 natural numbers using for loop\n",
    "Sum=0\n",
    "for i in range(1,11):\n",
    "    Sum=Sum+i\n",
    "print(Sum)   \n",
    "    "
   ]
  },
  {
   "cell_type": "code",
   "execution_count": 8,
   "id": "ed4d7af5-59e4-43bd-8722-80abc55f8201",
   "metadata": {},
   "outputs": [
    {
     "name": "stdout",
     "output_type": "stream",
     "text": [
      "3628800\n"
     ]
    }
   ],
   "source": [
    "#Product of first 10 natural numbers using for loop\n",
    "product=1\n",
    "for i in range(1,11):\n",
    "    product=product*i\n",
    "print(product)   \n",
    "    "
   ]
  },
  {
   "cell_type": "code",
   "execution_count": 9,
   "id": "5133fa23-b4c4-4724-9a90-cbc11672e009",
   "metadata": {},
   "outputs": [
    {
     "name": "stdout",
     "output_type": "stream",
     "text": [
      "55\n"
     ]
    }
   ],
   "source": [
    "#Sum of first 10 natural numbers using while loop\n",
    "sum=0\n",
    "i=0\n",
    "while(i<=10):\n",
    "    sum=sum+i\n",
    "    i=i+1\n",
    "print(sum)"
   ]
  },
  {
   "cell_type": "code",
   "execution_count": 10,
   "id": "3766df9e-72c2-4fb9-a843-578307fbdda3",
   "metadata": {},
   "outputs": [
    {
     "name": "stdout",
     "output_type": "stream",
     "text": [
      "3628800\n"
     ]
    }
   ],
   "source": [
    "#Product of first 10 natural numbers using for loop\n",
    "product=1\n",
    "i=1\n",
    "while(i<=10):\n",
    "    product=product*i\n",
    "    i=i+1\n",
    "print(product)"
   ]
  },
  {
   "cell_type": "code",
   "execution_count": 22,
   "id": "bf9a76bb-6a73-4a4e-9af4-7ca4268e2daf",
   "metadata": {},
   "outputs": [
    {
     "name": "stdin",
     "output_type": "stream",
     "text": [
      "Enter the units of electricity consumed in a month:  310\n"
     ]
    },
    {
     "name": "stdout",
     "output_type": "stream",
     "text": [
      "Your electricity bill for this month is: Rs. 2250.0\n"
     ]
    }
   ],
   "source": [
    "#Answer 3\n",
    "#A Python Program to compute the electricity bill for a household.\n",
    "units = int(input(\"Enter the units of electricity consumed in a month: \"))\n",
    "if units <= 100:\n",
    "    bill = units * 4.5\n",
    "elif units <= 200:\n",
    "    bill = 100 * 4.5 + (units - 100) * 6\n",
    "elif units <= 300:\n",
    "    bill = 100 * 4.5 + 100 * 6 + (units - 200) * 10\n",
    "else:\n",
    "    bill = 100 * 4.5 + 100 * 6 + 100 * 10 + (units - 300) * 20\n",
    "print(\"Your electricity bill for this month is: Rs.\", bill)\n"
   ]
  },
  {
   "cell_type": "code",
   "execution_count": 4,
   "id": "7e54614a-686f-4b98-9107-25018f2b68a3",
   "metadata": {},
   "outputs": [
    {
     "name": "stdout",
     "output_type": "stream",
     "text": [
      "[2, 4, 5, 6, 8, 10, 12, 14, 15, 16, 18, 20, 22, 24, 25, 26, 28, 30, 32, 34, 35, 36, 38, 40, 42, 44, 45, 46, 48, 50, 52, 54, 55, 56, 58, 60, 62, 64, 65, 66, 68, 70, 72, 74, 75, 76, 78, 80, 82, 84, 85, 86, 88, 90, 92, 94, 95, 96, 98, 100]\n"
     ]
    }
   ],
   "source": [
    "#Answer 4\n",
    "#using for loop\n",
    "list=[]\n",
    "for i in range(1,101):\n",
    "    cube=i**3\n",
    "    if cube%4==0 or cube%5==0:\n",
    "        list.append(i)\n",
    "print(list)"
   ]
  },
  {
   "cell_type": "code",
   "execution_count": 6,
   "id": "5c7c9930-84bf-4280-862f-5073b40ec902",
   "metadata": {},
   "outputs": [
    {
     "name": "stdout",
     "output_type": "stream",
     "text": [
      "[2, 4, 5, 6, 8, 10, 12, 14, 15, 16, 18, 20, 22, 24, 25, 26, 28, 30, 32, 34, 35, 36, 38, 40, 42, 44, 45, 46, 48, 50, 52, 54, 55, 56, 58, 60, 62, 64, 65, 66, 68, 70, 72, 74, 75, 76, 78, 80, 82, 84, 85, 86, 88, 90, 92, 94, 95, 96, 98, 100]\n"
     ]
    }
   ],
   "source": [
    "#using while loop\n",
    "list=[]\n",
    "i=1\n",
    "while(i<=100):\n",
    "    cube=i**3\n",
    "    if cube%4==0 or cube%5==0:\n",
    "        list.append(i)\n",
    "    i=i+1\n",
    "print(list)"
   ]
  },
  {
   "cell_type": "code",
   "execution_count": 9,
   "id": "877c96cf-f7c6-4485-bc51-2b6a684ba460",
   "metadata": {},
   "outputs": [
    {
     "name": "stdin",
     "output_type": "stream",
     "text": [
      "Enter the String:  I want to become Data Scientist.\n"
     ]
    },
    {
     "name": "stdout",
     "output_type": "stream",
     "text": [
      "Vowels in String is:  1\n",
      "Vowels in String is:  1\n",
      "Vowels in String is:  1\n",
      "Vowels in String is:  2\n",
      "Vowels in String is:  2\n",
      "Vowels in String is:  2\n",
      "Vowels in String is:  2\n",
      "Vowels in String is:  2\n",
      "Vowels in String is:  3\n",
      "Vowels in String is:  3\n",
      "Vowels in String is:  3\n",
      "Vowels in String is:  4\n",
      "Vowels in String is:  4\n",
      "Vowels in String is:  5\n",
      "Vowels in String is:  5\n",
      "Vowels in String is:  6\n",
      "Vowels in String is:  6\n",
      "Vowels in String is:  6\n",
      "Vowels in String is:  7\n",
      "Vowels in String is:  7\n",
      "Vowels in String is:  8\n",
      "Vowels in String is:  8\n",
      "Vowels in String is:  8\n",
      "Vowels in String is:  8\n",
      "Vowels in String is:  9\n",
      "Vowels in String is:  10\n",
      "Vowels in String is:  10\n",
      "Vowels in String is:  10\n",
      "Vowels in String is:  11\n",
      "Vowels in String is:  11\n",
      "Vowels in String is:  11\n",
      "Vowels in String is:  11\n"
     ]
    }
   ],
   "source": [
    "#Answer 5\n",
    "string=input(\"Enter the String: \")\n",
    "count=0\n",
    "for i in string:\n",
    "    if i=='a' or i=='e'or i=='i'or i=='o'or i=='u'or i=='A' or i=='E'or i=='I'or i=='O'or i=='U':\n",
    "        count=count+1\n",
    "    print(\"Vowels in String is: \",count)\n",
    "        "
   ]
  },
  {
   "cell_type": "code",
   "execution_count": null,
   "id": "4edb1416-9ce3-49f3-ab59-0d66321d1dbf",
   "metadata": {},
   "outputs": [],
   "source": []
  }
 ],
 "metadata": {
  "kernelspec": {
   "display_name": "Python 3 (ipykernel)",
   "language": "python",
   "name": "python3"
  },
  "language_info": {
   "codemirror_mode": {
    "name": "ipython",
    "version": 3
   },
   "file_extension": ".py",
   "mimetype": "text/x-python",
   "name": "python",
   "nbconvert_exporter": "python",
   "pygments_lexer": "ipython3",
   "version": "3.10.8"
  }
 },
 "nbformat": 4,
 "nbformat_minor": 5
}
